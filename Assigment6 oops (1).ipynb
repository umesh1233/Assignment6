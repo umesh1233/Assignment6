{
 "cells": [
  {
   "cell_type": "code",
   "execution_count": null,
   "id": "9b3bef3b-4d64-4b04-a0bf-b839fdfbcd10",
   "metadata": {},
   "outputs": [],
   "source": [
    "#Q.1\n",
    "Class : Class is real world entity .\n",
    "Object : An object is called an instance of a class."
   ]
  },
  {
   "cell_type": "code",
   "execution_count": 2,
   "id": "dd74445d-43b3-446c-90d6-58b8580afd73",
   "metadata": {},
   "outputs": [
    {
     "name": "stdout",
     "output_type": "stream",
     "text": [
      "Name:  Spelender Bike, Gears: 4 \n"
     ]
    }
   ],
   "source": [
    "class Bike:\n",
    "    name = \"\"\n",
    "    gear = 0\n",
    "\n",
    "bike1 = Bike()\n",
    "\n",
    "bike1.gear = 4\n",
    "bike1.name = \" Spelender Bike\"\n",
    "\n",
    "print(f\"Name: {bike1.name}, Gears: {bike1.gear} \")\n"
   ]
  },
  {
   "cell_type": "code",
   "execution_count": null,
   "id": "cdd0d4a3-b3cc-400e-8ea2-f80f1637004b",
   "metadata": {},
   "outputs": [],
   "source": [
    "#Q.2\n",
    "Pillars of oop's :\n",
    "Class\n",
    "Objects\n",
    "Polymorphism\n",
    "Encapsulation\n",
    "Inheritance\n",
    "Data Abstraction"
   ]
  },
  {
   "cell_type": "code",
   "execution_count": null,
   "id": "b82c9c91-e6de-4010-aeb2-b4c687ea407a",
   "metadata": {},
   "outputs": [],
   "source": [
    "#Q.3\n",
    "\"__init__\" is a reseved method in python classes."
   ]
  },
  {
   "cell_type": "code",
   "execution_count": 7,
   "id": "b35cf52a-535c-413e-a166-2a4ed33bb6f9",
   "metadata": {},
   "outputs": [],
   "source": [
    "class pwskills2 :\n",
    "    \n",
    "    def __init__(sudh , phone_number , email_id , student_id ):\n",
    "        sudh.phone_number1 = phone_number\n",
    "        sudh.email_id1 = email_id\n",
    "        sudh.student_id1 = student_id\n",
    "        \n",
    "    def return_student_details(sudh) :\n",
    "        return sudh.student_id1 , sudh.phone_number1, sudh.email_id1\n",
    "    "
   ]
  },
  {
   "cell_type": "code",
   "execution_count": 8,
   "id": "582df242-d5d9-4905-a7cd-e1e5abcaed6d",
   "metadata": {},
   "outputs": [],
   "source": [
    "umesh = pwskills2(243435454,\"umesh@gmail.com\",101)"
   ]
  },
  {
   "cell_type": "code",
   "execution_count": 10,
   "id": "eeb844a4-9951-410a-ae67-fede85c1670e",
   "metadata": {},
   "outputs": [
    {
     "data": {
      "text/plain": [
       "243435454"
      ]
     },
     "execution_count": 10,
     "metadata": {},
     "output_type": "execute_result"
    }
   ],
   "source": [
    "umesh.phone_number1"
   ]
  },
  {
   "cell_type": "code",
   "execution_count": null,
   "id": "7055aebc-b4b8-4f28-ab2e-81bde573cd06",
   "metadata": {},
   "outputs": [],
   "source": [
    "#Q.4\n",
    "The self variable is used to represent the instance of the class which is often used in object-oriented programming. \n",
    "It works as a reference to the object. \n",
    "Python uses the self parameter to refer to instance attributes and methods of the class"
   ]
  },
  {
   "cell_type": "code",
   "execution_count": null,
   "id": "672c337f-f301-4ecc-b107-4d37e87c1768",
   "metadata": {},
   "outputs": [],
   "source": [
    "#Q.5\n",
    "Inheritance is a mechanism in which one class acquires the property of another class."
   ]
  },
  {
   "cell_type": "code",
   "execution_count": 16,
   "id": "5e52df15-5484-44b1-9e97-a8645ed1fc02",
   "metadata": {},
   "outputs": [
    {
     "name": "stdout",
     "output_type": "stream",
     "text": [
      "Parent class variable\n"
     ]
    }
   ],
   "source": [
    "class A:\n",
    "    x = \"Parent class variable\"\n",
    "        \n",
    "class B(A):\n",
    "    pass\n",
    "obj = B()\n",
    "print(obj.x)"
   ]
  },
  {
   "cell_type": "code",
   "execution_count": null,
   "id": "5b096d64-beb6-4dbb-bd1c-188c89108d1f",
   "metadata": {},
   "outputs": [],
   "source": []
  }
 ],
 "metadata": {
  "kernelspec": {
   "display_name": "Python 3 (ipykernel)",
   "language": "python",
   "name": "python3"
  },
  "language_info": {
   "codemirror_mode": {
    "name": "ipython",
    "version": 3
   },
   "file_extension": ".py",
   "mimetype": "text/x-python",
   "name": "python",
   "nbconvert_exporter": "python",
   "pygments_lexer": "ipython3",
   "version": "3.10.8"
  }
 },
 "nbformat": 4,
 "nbformat_minor": 5
}
